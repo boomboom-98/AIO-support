{
  "nbformat": 4,
  "nbformat_minor": 0,
  "metadata": {
    "colab": {
      "private_outputs": true,
      "provenance": []
    },
    "kernelspec": {
      "name": "python3",
      "display_name": "Python 3"
    },
    "language_info": {
      "name": "python"
    }
  },
  "cells": [
    {
      "cell_type": "code",
      "execution_count": null,
      "metadata": {
        "id": "tTd52BXvgILD"
      },
      "outputs": [],
      "source": [
        "# Ma trận đầu vào và kernel\n",
        "mat_a = [\n",
        "    [0, 0, 0],\n",
        "    [0, 4, 0],\n",
        "    [0, 1, 0]\n",
        "]\n",
        "\n",
        "kernal_b = [\n",
        "    [1, 1],\n",
        "    [1, 1]\n",
        "]\n",
        "\n",
        "kernal_c = [\n",
        "    [0, 1, 0],\n",
        "    [0, 1, 0],\n",
        "    [0, 1, 0]\n",
        "]\n",
        "\n",
        "# Hàm padding\n",
        "def pad_matrix(matrix):\n",
        "    m = len(matrix)\n",
        "    n = len(matrix[0])\n",
        "    pad = 0\n",
        "    padded_matrix = [[0] * (m + 2 * pad) for _ in range(n + 2 * pad)]\n",
        "    for i in range(m):\n",
        "        for j in range(n):\n",
        "            padded_matrix[i + pad][j + pad] = matrix[i][j]\n",
        "    return padded_matrix\n",
        "\n",
        "# Hàm convolution\n",
        "def convolve(matrix, kernel):\n",
        "    km = len(kernel)\n",
        "    kn = len(kernel[0])\n",
        "    m = len(matrix)\n",
        "    n = len(matrix[0])\n",
        "    result_rows = m - km + 1\n",
        "    result_cols = n - kn + 1\n",
        "    result = [[0] * result_cols for _ in range(result_rows)]\n",
        "\n",
        "    for i in range(result_rows):\n",
        "        for j in range(result_cols):\n",
        "            sum_val = 0\n",
        "            for ki in range(km):\n",
        "                for kj in range(kn):\n",
        "                    sum_val += matrix[i + ki][j + kj] * kernel[ki][kj]\n",
        "            result[i][j] = sum_val\n",
        "    return result\n",
        "\n",
        "# Áp dụng zero padding và thực hiện convolution với kernel B\n",
        "padded_a = pad_matrix(mat_a)\n",
        "result_b = convolve(padded_a, kernal_b)\n",
        "\n",
        "# Áp dụng zero padding và thực hiện convolution với kernel C\n",
        "padded_a = pad_matrix(mat_a)\n",
        "result_c = convolve(padded_a, kernal_c)\n",
        "\n",
        "# In kết quả\n",
        "print(\"Output:\")\n",
        "print(\"- Câu 1:\", result_b)\n",
        "print(\"- Câu 2:\", result_c)"
      ]
    }
  ]
}