{
  "nbformat": 4,
  "nbformat_minor": 0,
  "metadata": {
    "colab": {
      "private_outputs": true,
      "provenance": []
    },
    "kernelspec": {
      "name": "python3",
      "display_name": "Python 3"
    },
    "language_info": {
      "name": "python"
    }
  },
  "cells": [
    {
      "cell_type": "code",
      "execution_count": null,
      "metadata": {
        "id": "tDqQ-hTVf1B2"
      },
      "outputs": [],
      "source": [
        "# Xử lý dataset\n",
        "corpus = ['Tôi thích môn Toán', 'Tôi thích AI', 'Tôi thích âm nhạc']\n",
        "vocabulary = (' '.join(corpus))\n",
        "vocabulary = vocabulary.split()\n",
        "vocabulary = set(vocabulary)\n",
        "vocabulary = sorted(vocabulary)\n",
        "# Request\n",
        "input_str = 'Tôi thích AI thích Toán'\n",
        "input_str = input_str.split()\n",
        "vector_str = [input_str.count(word) for word in vocabulary]\n",
        "\n",
        "print('Tôi thích AI thích Toán: ', vector_str)\n",
        "print('Bag-Of-Word:', vocabulary)"
      ]
    }
  ]
}