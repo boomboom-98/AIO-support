{
  "nbformat": 4,
  "nbformat_minor": 0,
  "metadata": {
    "colab": {
      "private_outputs": true,
      "provenance": []
    },
    "kernelspec": {
      "name": "python3",
      "display_name": "Python 3"
    },
    "language_info": {
      "name": "python"
    }
  },
  "cells": [
    {
      "cell_type": "code",
      "execution_count": null,
      "metadata": {
        "id": "l8hdKe-0KZdG"
      },
      "outputs": [],
      "source": [
        "# Định nghĩa ma trận A và các kernal B, C\n",
        "mat_a = [[1, 2, 3], [4, 5, 6], [7, 8, 9]]\n",
        "kernel_b = [[2, 4], [1, 3]]\n",
        "kernel_c = [[1, 1, 1], [0, 0, 0], [1, 1, 1]]\n",
        "\n",
        "# Hàm để thực hiện phép convolution\n",
        "def convolve(matrix, kernel):\n",
        "    m = len(matrix)\n",
        "    n = len(matrix[0])\n",
        "    km = len(kernel)\n",
        "    kn = len(kernel[0])\n",
        "    output = []\n",
        "\n",
        "    for i in range(m - km + 1):\n",
        "        row = []\n",
        "        for j in range(n - kn + 1):\n",
        "            sum_val = 0\n",
        "            for ki in range(km):\n",
        "                for kj in range(kn):\n",
        "                    sum_val += matrix[i + ki][j + kj] * kernel[ki][kj]\n",
        "\n",
        "            row.append(sum_val)\n",
        "        output.append(row)\n",
        "\n",
        "    return output\n",
        "\n",
        "# Tính convolution của A với B và C\n",
        "result_b = convolve(mat_a, kernel_b)\n",
        "result_c = convolve(mat_a, kernel_c)\n",
        "\n",
        "print(\"Câu 1: \", result_b)\n",
        "print(\"Câu 2: \", result_c)"
      ]
    }
  ]
}